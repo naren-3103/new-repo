{
 "cells": [
  {
   "cell_type": "code",
   "execution_count": 1,
   "id": "5cd158bf",
   "metadata": {},
   "outputs": [],
   "source": [
    "import pandas as pd\n",
    "\n",
    "url = \"https://raw.githubusercontent.com/naren-3103/new-repo/test/Titanic-Dataset.csv\"\n",
    "\n",
    "# Try reading the CSV file with different parameters\n",
    "try:\n",
    "    df = pd.read_csv(url)\n",
    "except pd.errors.ParserError as e:\n",
    "    print(\"Error:\", e)\n"
   ]
  },
  {
   "cell_type": "code",
   "execution_count": 2,
   "id": "2f330aee",
   "metadata": {},
   "outputs": [
    {
     "name": "stdout",
     "output_type": "stream",
     "text": [
      "No of rows :  891 \n",
      " No of columns :  12\n"
     ]
    }
   ],
   "source": [
    "#1.no of rows and col\n",
    "l = df.shape\n",
    "print('No of rows : ',l[0],'\\n No of columns : ',l[1])\n"
   ]
  },
  {
   "cell_type": "code",
   "execution_count": 3,
   "id": "4cffecb2",
   "metadata": {},
   "outputs": [
    {
     "name": "stdout",
     "output_type": "stream",
     "text": [
      "PassengerId     0.000000\n",
      "Survived        0.000000\n",
      "Pclass          0.000000\n",
      "Name            0.000000\n",
      "Sex             0.000000\n",
      "Age            19.865320\n",
      "SibSp           0.000000\n",
      "Parch           0.000000\n",
      "Ticket          0.000000\n",
      "Fare            0.000000\n",
      "Cabin          77.104377\n",
      "Embarked        0.224467\n",
      "dtype: float64 <class 'pandas.core.series.Series'>\n"
     ]
    }
   ],
   "source": [
    "null=df.isnull().mean() * 100\n",
    "print(null,type(null))"
   ]
  },
  {
   "cell_type": "code",
   "execution_count": 4,
   "id": "46b3c8ad",
   "metadata": {},
   "outputs": [
    {
     "name": "stdout",
     "output_type": "stream",
     "text": [
      "False\n",
      "Index(['PassengerId', 'Survived', 'Pclass', 'Name', 'Sex', 'Age', 'SibSp',\n",
      "       'Parch', 'Ticket', 'Fare', 'Embarked'],\n",
      "      dtype='object')\n"
     ]
    }
   ],
   "source": [
    "df_drop = df.loc[:, df.isnull().mean() < 0.2]\n",
    "print(df.shape==df_drop.shape)\n",
    "print(df_drop.columns)"
   ]
  },
  {
   "cell_type": "code",
   "execution_count": 5,
   "id": "491f09fe",
   "metadata": {},
   "outputs": [],
   "source": [
    "excel_file_path = 'output.xlsx'  # Specify the path where you want to save the Excel file\n",
    "df_drop.to_excel(excel_file_path, index=False)  # Set index=False to exclude DataFrame index from being saved"
   ]
  },
  {
   "cell_type": "code",
   "execution_count": null,
   "id": "14bb25c8",
   "metadata": {},
   "outputs": [],
   "source": []
  }
 ],
 "metadata": {
  "kernelspec": {
   "display_name": "Python 3 (ipykernel)",
   "language": "python",
   "name": "python3"
  },
  "language_info": {
   "codemirror_mode": {
    "name": "ipython",
    "version": 3
   },
   "file_extension": ".py",
   "mimetype": "text/x-python",
   "name": "python",
   "nbconvert_exporter": "python",
   "pygments_lexer": "ipython3",
   "version": "3.9.13"
  }
 },
 "nbformat": 4,
 "nbformat_minor": 5
}
